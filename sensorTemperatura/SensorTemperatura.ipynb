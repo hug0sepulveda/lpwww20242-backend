{
 "cells": [
  {
   "cell_type": "code",
   "execution_count": 1,
   "id": "c406cc47-a74f-4b6c-82a0-fa03a4c9a2d4",
   "metadata": {},
   "outputs": [
    {
     "data": {
      "text/plain": [
       "<Task pending name='Task-1' coro=<start_server() running at C:\\Users\\Felip\\AppData\\Local\\Temp\\ipykernel_4760\\1648835899.py:67>>"
      ]
     },
     "execution_count": 1,
     "metadata": {},
     "output_type": "execute_result"
    },
    {
     "name": "stdout",
     "output_type": "stream",
     "text": [
      "Servidor WebSocket iniciado en ws://localhost:4001\n",
      "Cliente WebSocket conectado\n"
     ]
    }
   ],
   "source": [
    "import asyncio\n",
    "import websockets\n",
    "import json\n",
    "import random\n",
    "import nest_asyncio\n",
    "\n",
    "# Aplicar el parche para permitir reutilizar el bucle de eventos existente\n",
    "nest_asyncio.apply()\n",
    "\n",
    "# Estado inicial de la temperatura y el ventilador\n",
    "current_temperature = 25  # Temperatura inicial\n",
    "ventilador_status = 'apagado'  # Estado inicial del ventilador\n",
    "\n",
    "# Función para generar cambios en la temperatura\n",
    "def generate_temperature():\n",
    "    global current_temperature\n",
    "    if ventilador_status == 'encendido':\n",
    "        # Si el ventilador está encendido, disminuye la temperatura lentamente\n",
    "        current_temperature += (-random.random() * 0.35) + 0.1\n",
    "    else:\n",
    "        # Si el ventilador está apagado, la temperatura sube o fluctúa\n",
    "        current_temperature += random.random() * 0.75 - 0.25\n",
    "\n",
    "    # Asegurarse de que la temperatura no sea negativa\n",
    "    current_temperature = max(current_temperature, 0)\n",
    "\n",
    "    # Redondear la temperatura a dos decimales\n",
    "    return round(current_temperature, 2)\n",
    "\n",
    "# Función para manejar el estado del ventilador\n",
    "def control_ventilator():\n",
    "    global ventilador_status\n",
    "    if current_temperature >= 30:\n",
    "        ventilador_status = 'encendido'\n",
    "    elif current_temperature <= 20:\n",
    "        ventilador_status = 'apagado'\n",
    "    return ventilador_status\n",
    "\n",
    "# Función para manejar las conexiones WebSocket\n",
    "async def handle_connection(websocket):\n",
    "    print(\"Cliente WebSocket conectado\")\n",
    "\n",
    "    try:\n",
    "        while True:\n",
    "            # Generar temperatura y controlar el ventilador\n",
    "            temperature = generate_temperature()\n",
    "            ventilador_status = control_ventilator()\n",
    "\n",
    "            # Crear el objeto de respuesta\n",
    "            response_object = {\n",
    "                \"randomValue\": temperature,\n",
    "                \"ventiladorStatus\": ventilador_status,\n",
    "            }\n",
    "\n",
    "            # Enviar el objeto al cliente\n",
    "            await websocket.send(json.dumps(response_object))\n",
    "\n",
    "            # Esperar 1 segundo antes de enviar el siguiente valor\n",
    "            await asyncio.sleep(1)\n",
    "\n",
    "    except websockets.exceptions.ConnectionClosed:\n",
    "        print(\"Cliente WebSocket desconectado\")\n",
    "    except Exception as e:\n",
    "        print(f\"Error en WebSocket: {e}\")\n",
    "\n",
    "# Función para iniciar el servidor WebSocket\n",
    "async def start_server():\n",
    "    # Iniciar el servidor WebSocket en localhost y puerto 4001\n",
    "    server = await websockets.serve(handle_connection, \"localhost\", 4001)\n",
    "    print('Servidor WebSocket iniciado en ws://localhost:4001')\n",
    "    await server.wait_closed()\n",
    "\n",
    "# Iniciar el servidor en el notebook\n",
    "asyncio.create_task(start_server())\n"
   ]
  },
  {
   "cell_type": "code",
   "execution_count": null,
   "id": "48ca0f10-6674-4792-9e26-f0135e151543",
   "metadata": {},
   "outputs": [],
   "source": []
  }
 ],
 "metadata": {
  "kernelspec": {
   "display_name": "Python 3 (ipykernel)",
   "language": "python",
   "name": "python3"
  },
  "language_info": {
   "codemirror_mode": {
    "name": "ipython",
    "version": 3
   },
   "file_extension": ".py",
   "mimetype": "text/x-python",
   "name": "python",
   "nbconvert_exporter": "python",
   "pygments_lexer": "ipython3",
   "version": "3.12.6"
  }
 },
 "nbformat": 4,
 "nbformat_minor": 5
}
